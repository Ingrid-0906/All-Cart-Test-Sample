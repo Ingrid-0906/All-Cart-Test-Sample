{
 "cells": [
  {
   "cell_type": "markdown",
   "id": "5f988454",
   "metadata": {},
   "source": [
    "# Product User Profile Generation\n",
    "## (PUPs)\n",
    "### Test Purpose\n",
    "#### Author: Ingrid Cadu\n",
    "#### Last Update: ago 15, 2022\n",
    "\n",
    "Note.\n",
    "The empty values are filled by the mean.<br>\n",
    "If we apply the inferencial statistics logical, if we infer a sample over the population the new mean will be the mean of total population.<br>\n",
    "In this case, the mean of empty values (sample infered by the non-values) will be the mean of the infered sample.\n",
    ":D!\n",
    "\n",
    "Data Source:<br>\n",
    "- pup.json\n",
    "- brand_affinity2.json\n",
    "- teststore_product_sale_*.json"
   ]
  },
  {
   "cell_type": "markdown",
   "id": "8553516b",
   "metadata": {},
   "source": [
    "# Libraries and Data"
   ]
  },
  {
   "cell_type": "code",
   "execution_count": 2,
   "id": "4024360a",
   "metadata": {
    "code_folding": []
   },
   "outputs": [
    {
     "name": "stderr",
     "output_type": "stream",
     "text": [
      "/home/ingrid_silva/.local/lib/python3.9/site-packages/pandas/compat/_optional.py:161: UserWarning: Pandas requires version '1.3.1' or newer of 'bottleneck' (version '1.2.1' currently installed).\n",
      "  warnings.warn(msg, UserWarning)\n"
     ]
    }
   ],
   "source": [
    "# Libraries\n",
    "import pandas as pd\n",
    "import numpy as np\n",
    "from glob import glob\n",
    "from textblob import TextBlob"
   ]
  },
  {
   "cell_type": "code",
   "execution_count": 3,
   "id": "c579d641",
   "metadata": {
    "code_folding": []
   },
   "outputs": [],
   "source": [
    "# Databases - Price and Product\n",
    "products = pd.read_json(\"./price/pup.json\")\n",
    "brands = pd.read_json(\"./price/brand_affinity2.json\")"
   ]
  },
  {
   "cell_type": "code",
   "execution_count": 4,
   "id": "99754072",
   "metadata": {
    "code_folding": []
   },
   "outputs": [],
   "source": [
    "#Stores data\n",
    "df = sorted(glob(\"./test/teststore_product_sale_*.json\"))\n",
    "stores = pd.concat((pd.read_json(file) for file in df), ignore_index=True)"
   ]
  },
  {
   "cell_type": "markdown",
   "id": "ede97eec",
   "metadata": {},
   "source": [
    "# Table 1. Product Affinity\n",
    "\n",
    "## Product Affinity\n",
    "> Product Affinity - Affinity of a given product based on categories (rating ;D)\n",
    "\n",
    "## Affinity\n",
    "> Affinity - Rating of 0-20, with 0 being 0% and 20 being 100%"
   ]
  },
  {
   "cell_type": "markdown",
   "id": "223fac7a",
   "metadata": {},
   "source": [
    "## Products"
   ]
  },
  {
   "cell_type": "code",
   "execution_count": 5,
   "id": "c099d8e3",
   "metadata": {
    "code_folding": []
   },
   "outputs": [
    {
     "data": {
      "text/html": [
       "<div>\n",
       "<style scoped>\n",
       "    .dataframe tbody tr th:only-of-type {\n",
       "        vertical-align: middle;\n",
       "    }\n",
       "\n",
       "    .dataframe tbody tr th {\n",
       "        vertical-align: top;\n",
       "    }\n",
       "\n",
       "    .dataframe thead th {\n",
       "        text-align: right;\n",
       "    }\n",
       "</style>\n",
       "<table border=\"1\" class=\"dataframe\">\n",
       "  <thead>\n",
       "    <tr style=\"text-align: right;\">\n",
       "      <th></th>\n",
       "      <th>brand_one</th>\n",
       "      <th>brand_two</th>\n",
       "      <th>affinity</th>\n",
       "      <th>category</th>\n",
       "    </tr>\n",
       "  </thead>\n",
       "  <tbody>\n",
       "    <tr>\n",
       "      <th>0</th>\n",
       "      <td>Air Wick</td>\n",
       "      <td>Aquafina</td>\n",
       "      <td>8.79</td>\n",
       "      <td>GROCERIES</td>\n",
       "    </tr>\n",
       "    <tr>\n",
       "      <th>1</th>\n",
       "      <td>Air Wick</td>\n",
       "      <td>Aquafresh</td>\n",
       "      <td>9.00</td>\n",
       "      <td>GROCERIES</td>\n",
       "    </tr>\n",
       "  </tbody>\n",
       "</table>\n",
       "</div>"
      ],
      "text/plain": [
       "  brand_one  brand_two  affinity   category\n",
       "0  Air Wick   Aquafina      8.79  GROCERIES\n",
       "1  Air Wick  Aquafresh      9.00  GROCERIES"
      ]
     },
     "execution_count": 5,
     "metadata": {},
     "output_type": "execute_result"
    }
   ],
   "source": [
    "# Splitting Brands col...\n",
    "brang = brands['brands'].apply(pd.Series)\n",
    "\n",
    "# Taking the cols we need\n",
    "br = brands.loc[:,['affinity','category']].copy()\n",
    "# Creating a new dataframe\n",
    "BRD = pd.concat([brang, br], axis=1)\n",
    "BRD.columns = ['brand_one','brand_two','affinity','category']\n",
    "BRD[:2]"
   ]
  },
  {
   "cell_type": "markdown",
   "id": "c079323f",
   "metadata": {},
   "source": [
    "## Affinity"
   ]
  },
  {
   "cell_type": "code",
   "execution_count": 6,
   "id": "fcef38d5",
   "metadata": {
    "code_folding": []
   },
   "outputs": [
    {
     "data": {
      "text/plain": [
       "15    1174\n",
       "0     1170\n",
       "5     1144\n",
       "10    1129\n",
       "20    1118\n",
       "Name: rating, dtype: int64"
      ]
     },
     "execution_count": 6,
     "metadata": {},
     "output_type": "execute_result"
    }
   ],
   "source": [
    "# Setting a rank\n",
    "BRD['rating'] = pd.qcut(BRD['affinity'],5,labels=[0,5,10,15,20])\n",
    "BRD['rating'].value_counts()"
   ]
  },
  {
   "cell_type": "markdown",
   "id": "53fc9ee6",
   "metadata": {},
   "source": [
    "## Table 1. Product Affinity"
   ]
  },
  {
   "cell_type": "code",
   "execution_count": 7,
   "id": "67cd91eb",
   "metadata": {
    "code_folding": [
     0
    ]
   },
   "outputs": [
    {
     "data": {
      "text/html": [
       "<div>\n",
       "<style scoped>\n",
       "    .dataframe tbody tr th:only-of-type {\n",
       "        vertical-align: middle;\n",
       "    }\n",
       "\n",
       "    .dataframe tbody tr th {\n",
       "        vertical-align: top;\n",
       "    }\n",
       "\n",
       "    .dataframe thead th {\n",
       "        text-align: right;\n",
       "    }\n",
       "</style>\n",
       "<table border=\"1\" class=\"dataframe\">\n",
       "  <thead>\n",
       "    <tr style=\"text-align: right;\">\n",
       "      <th></th>\n",
       "      <th>brand_one</th>\n",
       "      <th>brand_two</th>\n",
       "      <th>affinity</th>\n",
       "      <th>category</th>\n",
       "      <th>rating</th>\n",
       "    </tr>\n",
       "  </thead>\n",
       "  <tbody>\n",
       "    <tr>\n",
       "      <th>0</th>\n",
       "      <td>Air Wick</td>\n",
       "      <td>Aquafina</td>\n",
       "      <td>8.79</td>\n",
       "      <td>GROCERIES</td>\n",
       "      <td>5</td>\n",
       "    </tr>\n",
       "    <tr>\n",
       "      <th>1</th>\n",
       "      <td>Air Wick</td>\n",
       "      <td>Aquafresh</td>\n",
       "      <td>9.00</td>\n",
       "      <td>GROCERIES</td>\n",
       "      <td>10</td>\n",
       "    </tr>\n",
       "    <tr>\n",
       "      <th>2</th>\n",
       "      <td>Air Wick</td>\n",
       "      <td>Arm &amp; Hammer</td>\n",
       "      <td>9.74</td>\n",
       "      <td>GROCERIES</td>\n",
       "      <td>20</td>\n",
       "    </tr>\n",
       "    <tr>\n",
       "      <th>3</th>\n",
       "      <td>Air Wick</td>\n",
       "      <td>Arm &amp; Hammer</td>\n",
       "      <td>9.39</td>\n",
       "      <td>HOUSEHOLD ESSENTIALS</td>\n",
       "      <td>15</td>\n",
       "    </tr>\n",
       "    <tr>\n",
       "      <th>4</th>\n",
       "      <td>Air Wick</td>\n",
       "      <td>Aveeno</td>\n",
       "      <td>9.26</td>\n",
       "      <td>GROCERIES</td>\n",
       "      <td>15</td>\n",
       "    </tr>\n",
       "  </tbody>\n",
       "</table>\n",
       "</div>"
      ],
      "text/plain": [
       "  brand_one     brand_two  affinity              category rating\n",
       "0  Air Wick      Aquafina      8.79             GROCERIES      5\n",
       "1  Air Wick     Aquafresh      9.00             GROCERIES     10\n",
       "2  Air Wick  Arm & Hammer      9.74             GROCERIES     20\n",
       "3  Air Wick  Arm & Hammer      9.39  HOUSEHOLD ESSENTIALS     15\n",
       "4  Air Wick        Aveeno      9.26             GROCERIES     15"
      ]
     },
     "execution_count": 7,
     "metadata": {},
     "output_type": "execute_result"
    }
   ],
   "source": [
    "# Save in csv\n",
    "BRD.to_csv(\"./20220914_Product_Affinity.csv\")\n",
    "BRD[:5]"
   ]
  },
  {
   "cell_type": "markdown",
   "id": "0df7dedb",
   "metadata": {},
   "source": [
    "# Table 2. Product Section\n",
    "\n",
    "## Pt. 1 - General Info\n",
    "### Name \n",
    "> Name - name of the product\n",
    "\n",
    "### Year\n",
    "> Year Release - Year the product is released (optional)\n",
    "\n",
    "### Time of day most bought\n",
    "> Time of day most bought - Time of day that it the product is usually bought (optional)\n",
    "\n",
    "### Related Items Bought\n",
    "> Related Items Bought - Product names of related items that are commonly bought alongside with the product"
   ]
  },
  {
   "cell_type": "markdown",
   "id": "cb100295",
   "metadata": {},
   "source": [
    "## Year"
   ]
  },
  {
   "cell_type": "code",
   "execution_count": 8,
   "id": "ef72ce20",
   "metadata": {
    "code_folding": [],
    "scrolled": true
   },
   "outputs": [],
   "source": [
    "# removing object XP\n",
    "products['year_released'] = np.where(products['year_released']==\"Google\",0, products['year_released'])\n",
    "\n",
    "# Casting datatype\n",
    "products['year_released'] = products['year_released'].apply(lambda x: pd.to_numeric(x))"
   ]
  },
  {
   "cell_type": "markdown",
   "id": "82b08083",
   "metadata": {},
   "source": [
    "## Time of day \n",
    "Note:\n",
    "- Data has 5K unique brands\n",
    "<br>\n",
    "\n",
    "**Issue:**\n",
    "- Inconsistent: Data is missing too much values and can't be supposed randomly."
   ]
  },
  {
   "cell_type": "code",
   "execution_count": 9,
   "id": "bbc719d4",
   "metadata": {
    "code_folding": [
     0
    ]
   },
   "outputs": [
    {
     "data": {
      "text/plain": [
       "Noon    454\n",
       "Name: time_of_day, dtype: int64"
      ]
     },
     "execution_count": 9,
     "metadata": {},
     "output_type": "execute_result"
    }
   ],
   "source": [
    "# Cleaning the data to get just dicts\n",
    "time = products['time_of_day'].dropna()\n",
    "\n",
    "bags = {'brand':[], 'time_of_day':[], 'pct_time_of_day':[]}\n",
    "for key, value in time.items():\n",
    "    if len(value)>1:\n",
    "        for black in value:\n",
    "            bags['brand'].append(black.get('brand'))\n",
    "            bags['time_of_day'].append(black.get('time_of_day'))\n",
    "            bags['pct_time_of_day'].append(black.get('pct_time_of_day'))\n",
    "    else:\n",
    "        pass\n",
    "    \n",
    "\n",
    "# Transforming into a dataframe\n",
    "time_of_day = pd.DataFrame(bags)\n",
    "\n",
    "# Grouping them!\n",
    "time_group = time_of_day.groupby(['brand'])['time_of_day'].max().to_frame().reset_index()\n",
    "time_group.time_of_day.value_counts()"
   ]
  },
  {
   "cell_type": "markdown",
   "id": "58e1cf85",
   "metadata": {},
   "source": [
    "## Related Items Bought"
   ]
  },
  {
   "cell_type": "code",
   "execution_count": 11,
   "id": "1f15ba22",
   "metadata": {
    "code_folding": []
   },
   "outputs": [],
   "source": [
    "# link with stores!\n",
    "prod_section = products.loc[:,['brand','year_released','related_items']].copy()\n",
    "\n",
    "# Products empty rows\n",
    "prod_section = prod_section[prod_section['related_items'].map(bool)]\n",
    "\n",
    "# Merging time and save as csv\n",
    "merged_time = pd.merge(prod_section, time_group, \n",
    "                       left_on='brand', \n",
    "                       right_on='brand',\n",
    "                       how='outer')"
   ]
  },
  {
   "cell_type": "code",
   "execution_count": 12,
   "id": "bd93f00f",
   "metadata": {},
   "outputs": [
    {
     "data": {
      "text/html": [
       "<div>\n",
       "<style scoped>\n",
       "    .dataframe tbody tr th:only-of-type {\n",
       "        vertical-align: middle;\n",
       "    }\n",
       "\n",
       "    .dataframe tbody tr th {\n",
       "        vertical-align: top;\n",
       "    }\n",
       "\n",
       "    .dataframe thead th {\n",
       "        text-align: right;\n",
       "    }\n",
       "</style>\n",
       "<table border=\"1\" class=\"dataframe\">\n",
       "  <thead>\n",
       "    <tr style=\"text-align: right;\">\n",
       "      <th></th>\n",
       "      <th>brand</th>\n",
       "      <th>year_released</th>\n",
       "      <th>related_items</th>\n",
       "    </tr>\n",
       "  </thead>\n",
       "  <tbody>\n",
       "    <tr>\n",
       "      <th>0</th>\n",
       "      <td>Clairol</td>\n",
       "      <td>1956.0</td>\n",
       "      <td>[Suave, Mr. Clean, Colgate , Cover Girl]</td>\n",
       "    </tr>\n",
       "    <tr>\n",
       "      <th>1</th>\n",
       "      <td>Persil</td>\n",
       "      <td>1907.0</td>\n",
       "      <td>[Oxi Clean, Palmolive, Scott, Downy]</td>\n",
       "    </tr>\n",
       "    <tr>\n",
       "      <th>2</th>\n",
       "      <td>Purell</td>\n",
       "      <td>1988.0</td>\n",
       "      <td>[Crayola, Elmer's, Bic, Softsoap]</td>\n",
       "    </tr>\n",
       "    <tr>\n",
       "      <th>3</th>\n",
       "      <td>Duracell</td>\n",
       "      <td>1965.0</td>\n",
       "      <td>[Ziploc, Dixie, Tide, Downy]</td>\n",
       "    </tr>\n",
       "    <tr>\n",
       "      <th>4</th>\n",
       "      <td>Old Spice</td>\n",
       "      <td>1937.0</td>\n",
       "      <td>[Suave, Colgate, Dove, Dial]</td>\n",
       "    </tr>\n",
       "  </tbody>\n",
       "</table>\n",
       "</div>"
      ],
      "text/plain": [
       "       brand  year_released                             related_items\n",
       "0    Clairol         1956.0  [Suave, Mr. Clean, Colgate , Cover Girl]\n",
       "1     Persil         1907.0      [Oxi Clean, Palmolive, Scott, Downy]\n",
       "2     Purell         1988.0         [Crayola, Elmer's, Bic, Softsoap]\n",
       "3   Duracell         1965.0              [Ziploc, Dixie, Tide, Downy]\n",
       "4  Old Spice         1937.0              [Suave, Colgate, Dove, Dial]"
      ]
     },
     "execution_count": 12,
     "metadata": {},
     "output_type": "execute_result"
    }
   ],
   "source": [
    "prod_section[:5]"
   ]
  },
  {
   "cell_type": "code",
   "execution_count": 13,
   "id": "611bab11",
   "metadata": {
    "code_folding": []
   },
   "outputs": [],
   "source": [
    "# merging them together!\n",
    "merged_time = merged_time.sort_values(by='brand', ascending=True)\n",
    "\n",
    "# Saving as csv\n",
    "merged_time.to_csv(\"./20220914_Product_General_Info.csv\")"
   ]
  },
  {
   "cell_type": "code",
   "execution_count": 14,
   "id": "bc3af8e6",
   "metadata": {
    "code_folding": []
   },
   "outputs": [
    {
     "data": {
      "text/html": [
       "<div>\n",
       "<style scoped>\n",
       "    .dataframe tbody tr th:only-of-type {\n",
       "        vertical-align: middle;\n",
       "    }\n",
       "\n",
       "    .dataframe tbody tr th {\n",
       "        vertical-align: top;\n",
       "    }\n",
       "\n",
       "    .dataframe thead th {\n",
       "        text-align: right;\n",
       "    }\n",
       "</style>\n",
       "<table border=\"1\" class=\"dataframe\">\n",
       "  <thead>\n",
       "    <tr style=\"text-align: right;\">\n",
       "      <th></th>\n",
       "      <th>brand</th>\n",
       "      <th>year_released</th>\n",
       "      <th>related_items</th>\n",
       "      <th>time_of_day</th>\n",
       "    </tr>\n",
       "  </thead>\n",
       "  <tbody>\n",
       "    <tr>\n",
       "      <th>3132</th>\n",
       "      <td>100 plus</td>\n",
       "      <td>NaN</td>\n",
       "      <td>[]</td>\n",
       "      <td>NaN</td>\n",
       "    </tr>\n",
       "    <tr>\n",
       "      <th>1208</th>\n",
       "      <td>1960</td>\n",
       "      <td>NaN</td>\n",
       "      <td>[Christopher C. King, Zondervan, VARIOUS ARTIS...</td>\n",
       "      <td>NaN</td>\n",
       "    </tr>\n",
       "    <tr>\n",
       "      <th>1207</th>\n",
       "      <td>1962</td>\n",
       "      <td>NaN</td>\n",
       "      <td>[Lakeside Games, Milton Bradley, The Beatles, ...</td>\n",
       "      <td>NaN</td>\n",
       "    </tr>\n",
       "    <tr>\n",
       "      <th>4691</th>\n",
       "      <td>2XU</td>\n",
       "      <td>NaN</td>\n",
       "      <td>[Oiselle, Zoot, Mizuno, CW-X, Copper Fit, De S...</td>\n",
       "      <td>NaN</td>\n",
       "    </tr>\n",
       "    <tr>\n",
       "      <th>3769</th>\n",
       "      <td>3 Musketeers</td>\n",
       "      <td>NaN</td>\n",
       "      <td>[M&amp;M's, Kit Kat, Starbucks, Mars, Best Foods, ...</td>\n",
       "      <td>NaN</td>\n",
       "    </tr>\n",
       "  </tbody>\n",
       "</table>\n",
       "</div>"
      ],
      "text/plain": [
       "             brand  year_released  \\\n",
       "3132      100 plus            NaN   \n",
       "1208          1960            NaN   \n",
       "1207          1962            NaN   \n",
       "4691           2XU            NaN   \n",
       "3769  3 Musketeers            NaN   \n",
       "\n",
       "                                          related_items time_of_day  \n",
       "3132                                                 []         NaN  \n",
       "1208  [Christopher C. King, Zondervan, VARIOUS ARTIS...         NaN  \n",
       "1207  [Lakeside Games, Milton Bradley, The Beatles, ...         NaN  \n",
       "4691  [Oiselle, Zoot, Mizuno, CW-X, Copper Fit, De S...         NaN  \n",
       "3769  [M&M's, Kit Kat, Starbucks, Mars, Best Foods, ...         NaN  "
      ]
     },
     "execution_count": 14,
     "metadata": {},
     "output_type": "execute_result"
    }
   ],
   "source": [
    "# View table\n",
    "merged_time[:5]"
   ]
  },
  {
   "cell_type": "code",
   "execution_count": 15,
   "id": "c73f662a",
   "metadata": {
    "code_folding": []
   },
   "outputs": [],
   "source": [
    "# How much non-null rows this table has?\n",
    "#print(f'{round(len(merged_time)/len(products)*100, 1)}% of data from original.')"
   ]
  },
  {
   "cell_type": "markdown",
   "id": "32574a05",
   "metadata": {},
   "source": [
    "# Table 2. Product Section\n",
    "\n",
    "## Pt. 2 - Demographic Info\n",
    "\n",
    "\n",
    "### Product Loyalty\n",
    "> Product Loyalty - Measure of consumer loyalty for a given product\n",
    "\n",
    "### Sentiment by Demographic\n",
    "> Sentiment by Demographic: Measure of age sentiment\n",
    "\n",
    "### Product Ratings\n",
    "> Product Ratings: Rating of 0-5, with 0 being 0% and 5 being 100%\n",
    "\n",
    "### Customer Service Ratings\n",
    "> Customer Service Ratings: Measure of customer's star\n",
    "\n",
    "### General Demographic Sentiment\n",
    "> General Demographic Sentiment: General sentiment measured by age\n",
    "\n",
    "### Income Demogs\n",
    "\n",
    "### Race Demogs "
   ]
  },
  {
   "cell_type": "markdown",
   "id": "40d6647d",
   "metadata": {},
   "source": [
    "## Product Loyalty"
   ]
  },
  {
   "cell_type": "code",
   "execution_count": 16,
   "id": "f31c3548",
   "metadata": {
    "code_folding": []
   },
   "outputs": [
    {
     "data": {
      "text/html": [
       "<div>\n",
       "<style scoped>\n",
       "    .dataframe tbody tr th:only-of-type {\n",
       "        vertical-align: middle;\n",
       "    }\n",
       "\n",
       "    .dataframe tbody tr th {\n",
       "        vertical-align: top;\n",
       "    }\n",
       "\n",
       "    .dataframe thead th {\n",
       "        text-align: right;\n",
       "    }\n",
       "</style>\n",
       "<table border=\"1\" class=\"dataframe\">\n",
       "  <thead>\n",
       "    <tr style=\"text-align: right;\">\n",
       "      <th></th>\n",
       "      <th>loyal</th>\n",
       "      <th>disloyal</th>\n",
       "      <th>neutral</th>\n",
       "    </tr>\n",
       "    <tr>\n",
       "      <th>brand</th>\n",
       "      <th></th>\n",
       "      <th></th>\n",
       "      <th></th>\n",
       "    </tr>\n",
       "  </thead>\n",
       "  <tbody>\n",
       "    <tr>\n",
       "      <th>Clairol</th>\n",
       "      <td>33.480</td>\n",
       "      <td>33.229</td>\n",
       "      <td>33.291</td>\n",
       "    </tr>\n",
       "    <tr>\n",
       "      <th>Persil</th>\n",
       "      <td>33.385</td>\n",
       "      <td>33.419</td>\n",
       "      <td>33.196</td>\n",
       "    </tr>\n",
       "    <tr>\n",
       "      <th>Purell</th>\n",
       "      <td>33.276</td>\n",
       "      <td>33.313</td>\n",
       "      <td>33.412</td>\n",
       "    </tr>\n",
       "  </tbody>\n",
       "</table>\n",
       "</div>"
      ],
      "text/plain": [
       "          loyal  disloyal  neutral\n",
       "brand                             \n",
       "Clairol  33.480    33.229   33.291\n",
       "Persil   33.385    33.419   33.196\n",
       "Purell   33.276    33.313   33.412"
      ]
     },
     "execution_count": 16,
     "metadata": {},
     "output_type": "execute_result"
    }
   ],
   "source": [
    "# Setting data to use\n",
    "voucher = products.loc[:,['brand','general_loyalty']].dropna()\n",
    "\n",
    "# Setting a dict for loyalty data\n",
    "loyal = {'loyal':[], 'disloyal':[], 'neutral':[]}\n",
    "for key, value in voucher['general_loyalty'].items():\n",
    "    if len(value)>1:\n",
    "        loyal['loyal'].append(value.get('loyal')*100)\n",
    "        loyal['disloyal'].append(value.get('disloyal')*100)\n",
    "        loyal['neutral'].append(value.get('neutral')*100)\n",
    "    else:\n",
    "        pass\n",
    "    \n",
    "# Transforming into dataframe\n",
    "general_loyalty = pd.DataFrame(loyal).set_index(voucher['brand'])\n",
    "general_loyalty = round(general_loyalty,3)\n",
    "general_loyalty[:3]"
   ]
  },
  {
   "cell_type": "code",
   "execution_count": 17,
   "id": "7cb0e162",
   "metadata": {
    "code_folding": [
     0
    ]
   },
   "outputs": [
    {
     "name": "stdout",
     "output_type": "stream",
     "text": [
      "8.3% of data from original.\n"
     ]
    }
   ],
   "source": [
    "# How much non-null rows this table has?\n",
    "print(f'{round(len(general_loyalty)/len(products)*100, 1)}% of data from original.')"
   ]
  },
  {
   "cell_type": "markdown",
   "id": "aa7d4cd4",
   "metadata": {
    "heading_collapsed": true
   },
   "source": [
    "## Sentiment by Demographic"
   ]
  },
  {
   "cell_type": "code",
   "execution_count": 18,
   "id": "eeddca00",
   "metadata": {
    "code_folding": [
     0
    ],
    "hidden": true
   },
   "outputs": [],
   "source": [
    "# Ages feeling\n",
    "sent = {'id':[],'age':[],'sentiment_pos':[],'sentiment_neg':[],'sentiment_neu':[]}\n",
    "row = 0\n",
    "\n",
    "for aloha, dubai in products['age_sentiment'].items():\n",
    "    if np.array(dubai).dtype==float:\n",
    "        sent['id'].append(row)\n",
    "        sent['age'].append(pd.NA)\n",
    "        sent['sentiment_pos'].append(pd.NA)\n",
    "        sent['sentiment_neg'].append(pd.NA)\n",
    "        sent['sentiment_neu'].append(pd.NA)\n",
    "    else:\n",
    "        for dool in dubai:\n",
    "            sent['id'].append(row)\n",
    "            sent['age'].append(dool.get('age'))\n",
    "            sent['sentiment_pos'].append(dool.get('sentiment_pos'))\n",
    "            sent['sentiment_neg'].append(dool.get('sentiment_neg'))\n",
    "            sent['sentiment_neu'].append(dool.get('sentiment_neu'))\n",
    "    row = row+1\n",
    "\n",
    "\n",
    "# Creating dataframe\n",
    "aging = pd.DataFrame(sent)\n",
    "aging = aging.dropna()\n",
    "\n",
    "# Without merging by now\n",
    "new_prod = products.dropna(axis=0, subset=['age_sentiment'])\n",
    "AGES = aging.merge(new_prod['brand'], left_on='id', right_on=new_prod.index)\n",
    "AGES.drop('id', inplace=True, axis=1)"
   ]
  },
  {
   "cell_type": "code",
   "execution_count": 19,
   "id": "f7013226",
   "metadata": {
    "code_folding": [
     0
    ],
    "hidden": true
   },
   "outputs": [],
   "source": [
    "# Changing the datatype\n",
    "AGES['sentiment_pos'] = pd.to_numeric(AGES['sentiment_pos'])*100\n",
    "AGES['sentiment_neg'] = pd.to_numeric(AGES['sentiment_neg'])*100\n",
    "AGES['sentiment_neu'] = pd.to_numeric(AGES['sentiment_neu'])*100\n",
    "\n",
    "# Rouding\n",
    "AGES = round(AGES, 4)"
   ]
  },
  {
   "cell_type": "code",
   "execution_count": 20,
   "id": "458a09e0",
   "metadata": {
    "code_folding": [],
    "hidden": true
   },
   "outputs": [
    {
     "data": {
      "text/html": [
       "<div>\n",
       "<style scoped>\n",
       "    .dataframe tbody tr th:only-of-type {\n",
       "        vertical-align: middle;\n",
       "    }\n",
       "\n",
       "    .dataframe tbody tr th {\n",
       "        vertical-align: top;\n",
       "    }\n",
       "\n",
       "    .dataframe thead th {\n",
       "        text-align: right;\n",
       "    }\n",
       "</style>\n",
       "<table border=\"1\" class=\"dataframe\">\n",
       "  <thead>\n",
       "    <tr style=\"text-align: right;\">\n",
       "      <th></th>\n",
       "      <th>brand</th>\n",
       "      <th>age</th>\n",
       "      <th>sentiment_pos</th>\n",
       "      <th>sentiment_neg</th>\n",
       "      <th>sentiment_neu</th>\n",
       "    </tr>\n",
       "  </thead>\n",
       "  <tbody>\n",
       "    <tr>\n",
       "      <th>3254</th>\n",
       "      <td>7Up</td>\n",
       "      <td>35 to 44 years</td>\n",
       "      <td>32.6842</td>\n",
       "      <td>33.6272</td>\n",
       "      <td>33.6886</td>\n",
       "    </tr>\n",
       "    <tr>\n",
       "      <th>3261</th>\n",
       "      <td>7Up</td>\n",
       "      <td>85 years and over</td>\n",
       "      <td>33.5000</td>\n",
       "      <td>32.5921</td>\n",
       "      <td>33.9079</td>\n",
       "    </tr>\n",
       "    <tr>\n",
       "      <th>3262</th>\n",
       "      <td>7Up</td>\n",
       "      <td>Under 5 years</td>\n",
       "      <td>33.1974</td>\n",
       "      <td>33.0439</td>\n",
       "      <td>33.7588</td>\n",
       "    </tr>\n",
       "    <tr>\n",
       "      <th>3260</th>\n",
       "      <td>7Up</td>\n",
       "      <td>75 to 84 years</td>\n",
       "      <td>33.5351</td>\n",
       "      <td>33.1140</td>\n",
       "      <td>33.3509</td>\n",
       "    </tr>\n",
       "    <tr>\n",
       "      <th>3259</th>\n",
       "      <td>7Up</td>\n",
       "      <td>65 to 74 years</td>\n",
       "      <td>33.0702</td>\n",
       "      <td>33.4167</td>\n",
       "      <td>33.5132</td>\n",
       "    </tr>\n",
       "  </tbody>\n",
       "</table>\n",
       "</div>"
      ],
      "text/plain": [
       "     brand                age  sentiment_pos  sentiment_neg  sentiment_neu\n",
       "3254   7Up     35 to 44 years        32.6842        33.6272        33.6886\n",
       "3261   7Up  85 years and over        33.5000        32.5921        33.9079\n",
       "3262   7Up      Under 5 years        33.1974        33.0439        33.7588\n",
       "3260   7Up     75 to 84 years        33.5351        33.1140        33.3509\n",
       "3259   7Up     65 to 74 years        33.0702        33.4167        33.5132"
      ]
     },
     "execution_count": 20,
     "metadata": {},
     "output_type": "execute_result"
    }
   ],
   "source": [
    "# Collecting the feeling\n",
    "AGES = AGES.sort_values(by='brand', ascending=True)[['brand','age','sentiment_pos',\n",
    "                                                    'sentiment_neg','sentiment_neu']].copy()\n",
    "AGES[:5]"
   ]
  },
  {
   "cell_type": "code",
   "execution_count": 21,
   "id": "7b262c0e",
   "metadata": {
    "hidden": true
   },
   "outputs": [],
   "source": [
    "# Save as csv\n",
    "AGES.to_csv(\"./20220914_Product_By_Age.csv\")"
   ]
  },
  {
   "cell_type": "code",
   "execution_count": 22,
   "id": "7ced3de0",
   "metadata": {
    "code_folding": [
     0
    ],
    "hidden": true
   },
   "outputs": [
    {
     "name": "stdout",
     "output_type": "stream",
     "text": [
      "8.3% of data from original.\n"
     ]
    }
   ],
   "source": [
    "# How much non-null rows this table has?\n",
    "print(f'{round((len(AGES)/13)/len(products)*100, 1)}% of data from original.')"
   ]
  },
  {
   "cell_type": "markdown",
   "id": "2e7b6812",
   "metadata": {
    "heading_collapsed": true
   },
   "source": [
    "## Product Ratings"
   ]
  },
  {
   "cell_type": "code",
   "execution_count": 23,
   "id": "e23e2fe0",
   "metadata": {
    "code_folding": [
     0
    ],
    "hidden": true
   },
   "outputs": [
    {
     "data": {
      "text/html": [
       "<div>\n",
       "<style scoped>\n",
       "    .dataframe tbody tr th:only-of-type {\n",
       "        vertical-align: middle;\n",
       "    }\n",
       "\n",
       "    .dataframe tbody tr th {\n",
       "        vertical-align: top;\n",
       "    }\n",
       "\n",
       "    .dataframe thead th {\n",
       "        text-align: right;\n",
       "    }\n",
       "</style>\n",
       "<table border=\"1\" class=\"dataframe\">\n",
       "  <thead>\n",
       "    <tr style=\"text-align: right;\">\n",
       "      <th></th>\n",
       "      <th>brand</th>\n",
       "      <th>ratings</th>\n",
       "    </tr>\n",
       "  </thead>\n",
       "  <tbody>\n",
       "    <tr>\n",
       "      <th>3804</th>\n",
       "      <td>100 plus</td>\n",
       "      <td>4.4</td>\n",
       "    </tr>\n",
       "    <tr>\n",
       "      <th>1437</th>\n",
       "      <td>1960</td>\n",
       "      <td>4.1</td>\n",
       "    </tr>\n",
       "    <tr>\n",
       "      <th>1436</th>\n",
       "      <td>1962</td>\n",
       "      <td>4.1</td>\n",
       "    </tr>\n",
       "    <tr>\n",
       "      <th>1345</th>\n",
       "      <td>25 Hours</td>\n",
       "      <td>3.6</td>\n",
       "    </tr>\n",
       "    <tr>\n",
       "      <th>3666</th>\n",
       "      <td>28 Black</td>\n",
       "      <td>5.0</td>\n",
       "    </tr>\n",
       "  </tbody>\n",
       "</table>\n",
       "</div>"
      ],
      "text/plain": [
       "         brand  ratings\n",
       "3804  100 plus      4.4\n",
       "1437      1960      4.1\n",
       "1436      1962      4.1\n",
       "1345  25 Hours      3.6\n",
       "3666  28 Black      5.0"
      ]
     },
     "execution_count": 23,
     "metadata": {},
     "output_type": "execute_result"
    }
   ],
   "source": [
    "# Checking the rating from clients\n",
    "bags = list()\n",
    "for x in products['ratings']:\n",
    "    if np.array(x).dtype==float:\n",
    "        bags.append(x)\n",
    "    else:\n",
    "        bags.append(0)\n",
    "        \n",
    "# Creatinf a dict\n",
    "prd_rate = {'brand':products['brand'], 'ratings':bags}\n",
    "\n",
    "# Creating a data from it\n",
    "PRD = pd.DataFrame.from_records(prd_rate, columns=['brand','ratings'])\n",
    "#PRD['ratings'] = PRD['ratings'].replace(0, products['ratings'].mean())\n",
    "PRD['ratings'] = round(PRD['ratings'], 1)\n",
    "PRD = PRD.sort_values(by='brand', ascending=True)\n",
    "PRD[:5]"
   ]
  },
  {
   "cell_type": "code",
   "execution_count": 24,
   "id": "a6f9325b",
   "metadata": {
    "code_folding": [
     0
    ],
    "hidden": true
   },
   "outputs": [
    {
     "name": "stdout",
     "output_type": "stream",
     "text": [
      "100.0% of data from original.\n"
     ]
    }
   ],
   "source": [
    "# How much non-null rows this table has?\n",
    "print(f'{round(len(PRD)/len(products)*100, 1)}% of data from original.')"
   ]
  },
  {
   "cell_type": "markdown",
   "id": "2d0d2d27",
   "metadata": {
    "heading_collapsed": true
   },
   "source": [
    "## Customer Service Ratings"
   ]
  },
  {
   "cell_type": "code",
   "execution_count": 25,
   "id": "e94b2f1b",
   "metadata": {
    "code_folding": [
     0
    ],
    "hidden": true
   },
   "outputs": [
    {
     "data": {
      "text/html": [
       "<div>\n",
       "<style scoped>\n",
       "    .dataframe tbody tr th:only-of-type {\n",
       "        vertical-align: middle;\n",
       "    }\n",
       "\n",
       "    .dataframe tbody tr th {\n",
       "        vertical-align: top;\n",
       "    }\n",
       "\n",
       "    .dataframe thead th {\n",
       "        text-align: right;\n",
       "    }\n",
       "</style>\n",
       "<table border=\"1\" class=\"dataframe\">\n",
       "  <thead>\n",
       "    <tr style=\"text-align: right;\">\n",
       "      <th>star</th>\n",
       "      <th>1.0</th>\n",
       "      <th>2.0</th>\n",
       "      <th>3.0</th>\n",
       "      <th>4.0</th>\n",
       "      <th>5.0</th>\n",
       "    </tr>\n",
       "    <tr>\n",
       "      <th>brand</th>\n",
       "      <th></th>\n",
       "      <th></th>\n",
       "      <th></th>\n",
       "      <th></th>\n",
       "      <th></th>\n",
       "    </tr>\n",
       "  </thead>\n",
       "  <tbody>\n",
       "    <tr>\n",
       "      <th>7Up</th>\n",
       "      <td>26.0</td>\n",
       "      <td>6.0</td>\n",
       "      <td>0.0</td>\n",
       "      <td>13.0</td>\n",
       "      <td>56.0</td>\n",
       "    </tr>\n",
       "    <tr>\n",
       "      <th>9Lives</th>\n",
       "      <td>7.0</td>\n",
       "      <td>8.0</td>\n",
       "      <td>8.0</td>\n",
       "      <td>14.0</td>\n",
       "      <td>62.0</td>\n",
       "    </tr>\n",
       "    <tr>\n",
       "      <th>ACT Oral Care</th>\n",
       "      <td>21.0</td>\n",
       "      <td>0.0</td>\n",
       "      <td>0.0</td>\n",
       "      <td>21.0</td>\n",
       "      <td>59.0</td>\n",
       "    </tr>\n",
       "    <tr>\n",
       "      <th>Absolut</th>\n",
       "      <td>2.0</td>\n",
       "      <td>2.0</td>\n",
       "      <td>4.0</td>\n",
       "      <td>4.0</td>\n",
       "      <td>89.0</td>\n",
       "    </tr>\n",
       "    <tr>\n",
       "      <th>Adams (Peanut Butter)</th>\n",
       "      <td>4.0</td>\n",
       "      <td>3.0</td>\n",
       "      <td>9.0</td>\n",
       "      <td>13.0</td>\n",
       "      <td>71.0</td>\n",
       "    </tr>\n",
       "  </tbody>\n",
       "</table>\n",
       "</div>"
      ],
      "text/plain": [
       "star                    1.0  2.0  3.0   4.0   5.0\n",
       "brand                                            \n",
       "7Up                    26.0  6.0  0.0  13.0  56.0\n",
       "9Lives                  7.0  8.0  8.0  14.0  62.0\n",
       "ACT Oral Care          21.0  0.0  0.0  21.0  59.0\n",
       "Absolut                 2.0  2.0  4.0   4.0  89.0\n",
       "Adams (Peanut Butter)   4.0  3.0  9.0  13.0  71.0"
      ]
     },
     "execution_count": 25,
     "metadata": {},
     "output_type": "execute_result"
    }
   ],
   "source": [
    "# Cleaning the data to get just dicts\n",
    "cust_rate = products['customer_service_ratings'].dropna()\n",
    "\n",
    "rates = {'brand':[], 'star':[], 'rating':[]}\n",
    "for key, value in cust_rate.items():\n",
    "    if len(value)>1:\n",
    "        for black in value:\n",
    "            rates['brand'].append(black.get('brand'))\n",
    "            rates['star'].append(black.get('star'))\n",
    "            rates['rating'].append(black.get('rating')*100)\n",
    "    else:\n",
    "        pass\n",
    "    \n",
    "# Transformiong dict to dataframe\n",
    "customer_service = pd.DataFrame(rates)\n",
    "\n",
    "# Grouping them!\n",
    "customer_service_ratings = customer_service.pivot_table(index=\"brand\",\n",
    "                            columns=\"star\",\n",
    "                            values=\"rating\").sort_values(by='brand')\n",
    "# View\n",
    "customer_service_ratings[:5]"
   ]
  },
  {
   "cell_type": "code",
   "execution_count": 26,
   "id": "74638734",
   "metadata": {
    "code_folding": [
     0
    ],
    "hidden": true
   },
   "outputs": [
    {
     "name": "stdout",
     "output_type": "stream",
     "text": [
      "8.2% of data from original.\n"
     ]
    }
   ],
   "source": [
    "# How much non-null rows this table has?\n",
    "print(f'{round(len(customer_service_ratings)/len(products)*100, 1)}% of data from original.')"
   ]
  },
  {
   "cell_type": "markdown",
   "id": "dcf8875c",
   "metadata": {
    "heading_collapsed": true
   },
   "source": [
    "## General Demographic Sentiment"
   ]
  },
  {
   "cell_type": "code",
   "execution_count": 27,
   "id": "41b09579",
   "metadata": {
    "code_folding": [
     0
    ],
    "hidden": true
   },
   "outputs": [
    {
     "data": {
      "text/html": [
       "<div>\n",
       "<style scoped>\n",
       "    .dataframe tbody tr th:only-of-type {\n",
       "        vertical-align: middle;\n",
       "    }\n",
       "\n",
       "    .dataframe tbody tr th {\n",
       "        vertical-align: top;\n",
       "    }\n",
       "\n",
       "    .dataframe thead th {\n",
       "        text-align: right;\n",
       "    }\n",
       "</style>\n",
       "<table border=\"1\" class=\"dataframe\">\n",
       "  <thead>\n",
       "    <tr style=\"text-align: right;\">\n",
       "      <th></th>\n",
       "      <th>sentiment_pos</th>\n",
       "      <th>sentiment_neg</th>\n",
       "      <th>sentiment_neu</th>\n",
       "    </tr>\n",
       "    <tr>\n",
       "      <th>brand</th>\n",
       "      <th></th>\n",
       "      <th></th>\n",
       "      <th></th>\n",
       "    </tr>\n",
       "  </thead>\n",
       "  <tbody>\n",
       "    <tr>\n",
       "      <th>Clairol</th>\n",
       "      <td>33.263833</td>\n",
       "      <td>33.426788</td>\n",
       "      <td>33.309379</td>\n",
       "    </tr>\n",
       "    <tr>\n",
       "      <th>Persil</th>\n",
       "      <td>33.441970</td>\n",
       "      <td>33.351215</td>\n",
       "      <td>33.206815</td>\n",
       "    </tr>\n",
       "    <tr>\n",
       "      <th>Purell</th>\n",
       "      <td>33.379555</td>\n",
       "      <td>33.275641</td>\n",
       "      <td>33.344804</td>\n",
       "    </tr>\n",
       "  </tbody>\n",
       "</table>\n",
       "</div>"
      ],
      "text/plain": [
       "         sentiment_pos  sentiment_neg  sentiment_neu\n",
       "brand                                               \n",
       "Clairol      33.263833      33.426788      33.309379\n",
       "Persil       33.441970      33.351215      33.206815\n",
       "Purell       33.379555      33.275641      33.344804"
      ]
     },
     "execution_count": 27,
     "metadata": {},
     "output_type": "execute_result"
    }
   ],
   "source": [
    "# Setting general sentiment\n",
    "gema = products.dropna(axis=0, subset=['general_sentiment'])\n",
    "\n",
    "general_sentiment = pd.DataFrame.from_records(gema['general_sentiment'], \n",
    "                                     columns=['sentiment_pos',\n",
    "                                             'sentiment_neg',\n",
    "                                             'sentiment_neu']).set_index(gema['brand'])\n",
    "\n",
    "# Viewing\n",
    "general_sentiment = general_sentiment*100\n",
    "general_sentiment[:3]"
   ]
  },
  {
   "cell_type": "code",
   "execution_count": 28,
   "id": "8b4eddab",
   "metadata": {
    "code_folding": [
     0
    ],
    "hidden": true
   },
   "outputs": [
    {
     "name": "stdout",
     "output_type": "stream",
     "text": [
      "8.3% of data from original.\n"
     ]
    }
   ],
   "source": [
    "# How much non-null rows this table has?\n",
    "print(f'{round(len(general_sentiment)/len(products)*100, 1)}% of data from original.')"
   ]
  },
  {
   "cell_type": "markdown",
   "id": "76ad3e16",
   "metadata": {},
   "source": [
    "## Income Demographic"
   ]
  },
  {
   "cell_type": "code",
   "execution_count": 29,
   "id": "297b9db5",
   "metadata": {
    "code_folding": [
     0
    ]
   },
   "outputs": [
    {
     "data": {
      "text/html": [
       "<div>\n",
       "<style scoped>\n",
       "    .dataframe tbody tr th:only-of-type {\n",
       "        vertical-align: middle;\n",
       "    }\n",
       "\n",
       "    .dataframe tbody tr th {\n",
       "        vertical-align: top;\n",
       "    }\n",
       "\n",
       "    .dataframe thead th {\n",
       "        text-align: right;\n",
       "    }\n",
       "</style>\n",
       "<table border=\"1\" class=\"dataframe\">\n",
       "  <thead>\n",
       "    <tr style=\"text-align: right;\">\n",
       "      <th></th>\n",
       "      <th>brand</th>\n",
       "      <th>income</th>\n",
       "      <th>wt</th>\n",
       "    </tr>\n",
       "  </thead>\n",
       "  <tbody>\n",
       "    <tr>\n",
       "      <th>0</th>\n",
       "      <td>Clairol</td>\n",
       "      <td>14,999</td>\n",
       "      <td>16.438901</td>\n",
       "    </tr>\n",
       "    <tr>\n",
       "      <th>1</th>\n",
       "      <td>Clairol</td>\n",
       "      <td>149,999</td>\n",
       "      <td>45.498425</td>\n",
       "    </tr>\n",
       "    <tr>\n",
       "      <th>2</th>\n",
       "      <td>Clairol</td>\n",
       "      <td>24,999</td>\n",
       "      <td>34.227204</td>\n",
       "    </tr>\n",
       "  </tbody>\n",
       "</table>\n",
       "</div>"
      ],
      "text/plain": [
       "     brand   income         wt\n",
       "0  Clairol   14,999  16.438901\n",
       "1  Clairol  149,999  45.498425\n",
       "2  Clairol   24,999  34.227204"
      ]
     },
     "execution_count": 29,
     "metadata": {},
     "output_type": "execute_result"
    }
   ],
   "source": [
    "# Splitting the columns\n",
    "maca = products[['brand','income_demogs']].dropna()\n",
    "\n",
    "# LOoping through teh data\n",
    "rates = {'brand':[],'income':[], 'wt':[]}\n",
    "for keys, values in maca['income_demogs'].items():\n",
    "    if len(values)>1:\n",
    "        for black in values:\n",
    "            gui = black.get('income')\n",
    "            bui = str(gui).split(\" to \")\n",
    "            if len(bui)<=1:\n",
    "                if str(bui) == \"['$200,000 or more']\":\n",
    "                    rates['brand'].append(maca['brand'][keys])\n",
    "                    rates['income'].append(\"200,000\")\n",
    "                    rates['wt'].append(black.get('wt')*1000000)\n",
    "                else:\n",
    "                    rates['brand'].append(maca['brand'][keys])\n",
    "                    rates['income'].append(\"100,000\")\n",
    "                    rates['wt'].append(black.get('wt')*1000000)\n",
    "            else:\n",
    "                rates['brand'].append(maca['brand'][keys])\n",
    "                rates['income'].append(bui[1].strip(\"$\"))\n",
    "                rates['wt'].append(black.get('wt')*1000000)\n",
    "            \n",
    "    else:\n",
    "        pass\n",
    "\n",
    "# Creating the dataframe\n",
    "income = pd.DataFrame(rates)\n",
    "income[:3]"
   ]
  },
  {
   "cell_type": "code",
   "execution_count": 30,
   "id": "6430fd26",
   "metadata": {
    "code_folding": [
     0
    ]
   },
   "outputs": [
    {
     "data": {
      "text/html": [
       "<div>\n",
       "<style scoped>\n",
       "    .dataframe tbody tr th:only-of-type {\n",
       "        vertical-align: middle;\n",
       "    }\n",
       "\n",
       "    .dataframe tbody tr th {\n",
       "        vertical-align: top;\n",
       "    }\n",
       "\n",
       "    .dataframe thead th {\n",
       "        text-align: right;\n",
       "    }\n",
       "</style>\n",
       "<table border=\"1\" class=\"dataframe\">\n",
       "  <thead>\n",
       "    <tr style=\"text-align: right;\">\n",
       "      <th>income</th>\n",
       "      <th>brand</th>\n",
       "      <th>highest_income</th>\n",
       "      <th>lowest_income</th>\n",
       "    </tr>\n",
       "  </thead>\n",
       "  <tbody>\n",
       "    <tr>\n",
       "      <th>0</th>\n",
       "      <td>7Up</td>\n",
       "      <td>74,999</td>\n",
       "      <td>14,999</td>\n",
       "    </tr>\n",
       "    <tr>\n",
       "      <th>1</th>\n",
       "      <td>9Lives</td>\n",
       "      <td>74,999</td>\n",
       "      <td>14,999</td>\n",
       "    </tr>\n",
       "    <tr>\n",
       "      <th>2</th>\n",
       "      <td>A&amp;W</td>\n",
       "      <td>74,999</td>\n",
       "      <td>14,999</td>\n",
       "    </tr>\n",
       "    <tr>\n",
       "      <th>3</th>\n",
       "      <td>ACT Oral Care</td>\n",
       "      <td>74,999</td>\n",
       "      <td>14,999</td>\n",
       "    </tr>\n",
       "    <tr>\n",
       "      <th>4</th>\n",
       "      <td>Absolut</td>\n",
       "      <td>74,999</td>\n",
       "      <td>14,999</td>\n",
       "    </tr>\n",
       "  </tbody>\n",
       "</table>\n",
       "</div>"
      ],
      "text/plain": [
       "income          brand highest_income lowest_income\n",
       "0                 7Up         74,999        14,999\n",
       "1              9Lives         74,999        14,999\n",
       "2                 A&W         74,999        14,999\n",
       "3       ACT Oral Care         74,999        14,999\n",
       "4             Absolut         74,999        14,999"
      ]
     },
     "execution_count": 30,
     "metadata": {},
     "output_type": "execute_result"
    }
   ],
   "source": [
    "# Creating data from income demog\n",
    "income_demog = income.pivot_table(index=['brand'],\n",
    "                                 columns=['income'],\n",
    "                                 values=['wt']).reset_index()\n",
    "\n",
    "income_demog.columns = income_demog.columns.droplevel([0]) \n",
    "income_demog = income_demog.rename(columns={'':'brand'})\n",
    "\n",
    "# Getting just the profitable target\n",
    "# Highest\n",
    "income_demog['highest_income'] = income_demog[['100,000', '14,999', '149,999', '199,999',\n",
    "       '200,000', '24,999', '34,999', '49,999', '74,999',\n",
    "       '99,999']].apply(lambda x: x.idxmax(axis=0), axis=1)\n",
    "#Lowest\n",
    "income_demog['lowest_income'] = income_demog[['100,000', '14,999', '149,999', '199,999',\n",
    "       '200,000', '24,999', '34,999', '49,999', '74,999',\n",
    "       '99,999']].apply(lambda x: x.idxmin(axis=0), axis=1)\n",
    "\n",
    "\n",
    "# To merg with other datas\n",
    "inc = income_demog.loc[:,['brand','highest_income','lowest_income']].copy()\n",
    "inc[:5]"
   ]
  },
  {
   "cell_type": "code",
   "execution_count": 31,
   "id": "51b79252",
   "metadata": {},
   "outputs": [],
   "source": [
    "# Saving the data as csv\n",
    "income_demog.to_csv(\"./20220914_Product_Income_Demo.csv\")"
   ]
  },
  {
   "cell_type": "markdown",
   "id": "f95f838a",
   "metadata": {},
   "source": [
    "## Race demogs"
   ]
  },
  {
   "cell_type": "code",
   "execution_count": 32,
   "id": "5d250d44",
   "metadata": {
    "code_folding": [
     0
    ]
   },
   "outputs": [
    {
     "data": {
      "text/html": [
       "<div>\n",
       "<style scoped>\n",
       "    .dataframe tbody tr th:only-of-type {\n",
       "        vertical-align: middle;\n",
       "    }\n",
       "\n",
       "    .dataframe tbody tr th {\n",
       "        vertical-align: top;\n",
       "    }\n",
       "\n",
       "    .dataframe thead th {\n",
       "        text-align: right;\n",
       "    }\n",
       "</style>\n",
       "<table border=\"1\" class=\"dataframe\">\n",
       "  <thead>\n",
       "    <tr style=\"text-align: right;\">\n",
       "      <th></th>\n",
       "      <th>brand</th>\n",
       "      <th>race_demo</th>\n",
       "    </tr>\n",
       "  </thead>\n",
       "  <tbody>\n",
       "    <tr>\n",
       "      <th>0</th>\n",
       "      <td>7Up</td>\n",
       "      <td>83.210072</td>\n",
       "    </tr>\n",
       "    <tr>\n",
       "      <th>1</th>\n",
       "      <td>9Lives</td>\n",
       "      <td>83.210072</td>\n",
       "    </tr>\n",
       "    <tr>\n",
       "      <th>2</th>\n",
       "      <td>A&amp;W</td>\n",
       "      <td>83.210072</td>\n",
       "    </tr>\n",
       "    <tr>\n",
       "      <th>3</th>\n",
       "      <td>ACT Oral Care</td>\n",
       "      <td>83.210072</td>\n",
       "    </tr>\n",
       "    <tr>\n",
       "      <th>4</th>\n",
       "      <td>Absolut</td>\n",
       "      <td>83.210072</td>\n",
       "    </tr>\n",
       "  </tbody>\n",
       "</table>\n",
       "</div>"
      ],
      "text/plain": [
       "           brand  race_demo\n",
       "0            7Up  83.210072\n",
       "1         9Lives  83.210072\n",
       "2            A&W  83.210072\n",
       "3  ACT Oral Care  83.210072\n",
       "4        Absolut  83.210072"
      ]
     },
     "execution_count": 32,
     "metadata": {},
     "output_type": "execute_result"
    }
   ],
   "source": [
    "# Splitting the columns\n",
    "cama = products[['brand','race_demogs']].dropna()\n",
    "\n",
    "# LOoping through teh data\n",
    "race = {'brand':[],'wt':[]}\n",
    "for keys, values in cama['race_demogs'].items():\n",
    "    if len(values)>1:\n",
    "        for black in values:\n",
    "            race['brand'].append(cama['brand'][keys])\n",
    "            race['wt'].append(black.get('wt')*100)\n",
    "    else:\n",
    "        print(values)\n",
    "\n",
    "        \n",
    "# Setting the dataframe here\n",
    "racing = pd.DataFrame(race)\n",
    "\n",
    "# Checking the dataframe\n",
    "racem = racing.groupby(['brand'])['wt'].max().reset_index().rename(columns={'wt':'race_demo'})\n",
    "racem[:5]"
   ]
  },
  {
   "cell_type": "markdown",
   "id": "720554e8",
   "metadata": {},
   "source": [
    "## Table 2 - Product Section"
   ]
  },
  {
   "cell_type": "code",
   "execution_count": 33,
   "id": "79f44fd0",
   "metadata": {
    "code_folding": []
   },
   "outputs": [],
   "source": [
    "# Merging all together\n",
    "SPCG_1 = pd.merge(customer_service_ratings, general_sentiment, \n",
    "                  left_on='brand', \n",
    "                  right_on ='brand',\n",
    "                  how='outer')\n",
    "SPCG_2 = pd.merge(SPCG_1, PRD,\n",
    "                  left_on='brand', \n",
    "                  right_on='brand', \n",
    "                  how='outer')\n",
    "SPCG_3 = pd.merge(SPCG_2, general_loyalty,\n",
    "                 left_on='brand',\n",
    "                 right_on='brand',\n",
    "                 how='outer')\n",
    "SPCG_4 = pd.merge(SPCG_3, inc,\n",
    "                 left_on='brand',\n",
    "                 right_on='brand',\n",
    "                 how='outer')\n",
    "SPCG_5 = pd.merge(SPCG_4, racem,\n",
    "                 left_on='brand',\n",
    "                 right_on='brand',\n",
    "                 how='outer')"
   ]
  },
  {
   "cell_type": "code",
   "execution_count": 34,
   "id": "fbc6255c",
   "metadata": {
    "code_folding": []
   },
   "outputs": [
    {
     "data": {
      "text/html": [
       "<div>\n",
       "<style scoped>\n",
       "    .dataframe tbody tr th:only-of-type {\n",
       "        vertical-align: middle;\n",
       "    }\n",
       "\n",
       "    .dataframe tbody tr th {\n",
       "        vertical-align: top;\n",
       "    }\n",
       "\n",
       "    .dataframe thead th {\n",
       "        text-align: right;\n",
       "    }\n",
       "</style>\n",
       "<table border=\"1\" class=\"dataframe\">\n",
       "  <thead>\n",
       "    <tr style=\"text-align: right;\">\n",
       "      <th></th>\n",
       "      <th>brand</th>\n",
       "      <th>1.0</th>\n",
       "      <th>2.0</th>\n",
       "      <th>3.0</th>\n",
       "      <th>4.0</th>\n",
       "      <th>5.0</th>\n",
       "      <th>sentiment_pos</th>\n",
       "      <th>sentiment_neg</th>\n",
       "      <th>sentiment_neu</th>\n",
       "      <th>ratings</th>\n",
       "      <th>loyal</th>\n",
       "      <th>disloyal</th>\n",
       "      <th>neutral</th>\n",
       "      <th>highest_income</th>\n",
       "      <th>lowest_income</th>\n",
       "      <th>race_demo</th>\n",
       "    </tr>\n",
       "  </thead>\n",
       "  <tbody>\n",
       "    <tr>\n",
       "      <th>0</th>\n",
       "      <td>7Up</td>\n",
       "      <td>26.0</td>\n",
       "      <td>6.0</td>\n",
       "      <td>0.0</td>\n",
       "      <td>13.0</td>\n",
       "      <td>56.0</td>\n",
       "      <td>33.341</td>\n",
       "      <td>33.249</td>\n",
       "      <td>33.410</td>\n",
       "      <td>3.9</td>\n",
       "      <td>33.315</td>\n",
       "      <td>33.318</td>\n",
       "      <td>33.366</td>\n",
       "      <td>74,999</td>\n",
       "      <td>14,999</td>\n",
       "      <td>83.21</td>\n",
       "    </tr>\n",
       "    <tr>\n",
       "      <th>1</th>\n",
       "      <td>9Lives</td>\n",
       "      <td>7.0</td>\n",
       "      <td>8.0</td>\n",
       "      <td>8.0</td>\n",
       "      <td>14.0</td>\n",
       "      <td>62.0</td>\n",
       "      <td>33.345</td>\n",
       "      <td>33.237</td>\n",
       "      <td>33.418</td>\n",
       "      <td>3.9</td>\n",
       "      <td>33.398</td>\n",
       "      <td>33.238</td>\n",
       "      <td>33.364</td>\n",
       "      <td>74,999</td>\n",
       "      <td>14,999</td>\n",
       "      <td>83.21</td>\n",
       "    </tr>\n",
       "    <tr>\n",
       "      <th>2</th>\n",
       "      <td>ACT Oral Care</td>\n",
       "      <td>21.0</td>\n",
       "      <td>0.0</td>\n",
       "      <td>0.0</td>\n",
       "      <td>21.0</td>\n",
       "      <td>59.0</td>\n",
       "      <td>33.254</td>\n",
       "      <td>33.269</td>\n",
       "      <td>33.477</td>\n",
       "      <td>3.9</td>\n",
       "      <td>33.325</td>\n",
       "      <td>33.333</td>\n",
       "      <td>33.342</td>\n",
       "      <td>74,999</td>\n",
       "      <td>14,999</td>\n",
       "      <td>83.21</td>\n",
       "    </tr>\n",
       "    <tr>\n",
       "      <th>3</th>\n",
       "      <td>Absolut</td>\n",
       "      <td>2.0</td>\n",
       "      <td>2.0</td>\n",
       "      <td>4.0</td>\n",
       "      <td>4.0</td>\n",
       "      <td>89.0</td>\n",
       "      <td>33.353</td>\n",
       "      <td>33.370</td>\n",
       "      <td>33.277</td>\n",
       "      <td>3.9</td>\n",
       "      <td>33.438</td>\n",
       "      <td>33.342</td>\n",
       "      <td>33.221</td>\n",
       "      <td>74,999</td>\n",
       "      <td>14,999</td>\n",
       "      <td>83.21</td>\n",
       "    </tr>\n",
       "    <tr>\n",
       "      <th>4</th>\n",
       "      <td>Adams (Peanut Butter)</td>\n",
       "      <td>4.0</td>\n",
       "      <td>3.0</td>\n",
       "      <td>9.0</td>\n",
       "      <td>13.0</td>\n",
       "      <td>71.0</td>\n",
       "      <td>33.292</td>\n",
       "      <td>33.215</td>\n",
       "      <td>33.493</td>\n",
       "      <td>3.9</td>\n",
       "      <td>33.304</td>\n",
       "      <td>33.446</td>\n",
       "      <td>33.251</td>\n",
       "      <td>74,999</td>\n",
       "      <td>14,999</td>\n",
       "      <td>83.21</td>\n",
       "    </tr>\n",
       "  </tbody>\n",
       "</table>\n",
       "</div>"
      ],
      "text/plain": [
       "                   brand   1.0  2.0  3.0   4.0   5.0  sentiment_pos  \\\n",
       "0                    7Up  26.0  6.0  0.0  13.0  56.0         33.341   \n",
       "1                 9Lives   7.0  8.0  8.0  14.0  62.0         33.345   \n",
       "2          ACT Oral Care  21.0  0.0  0.0  21.0  59.0         33.254   \n",
       "3                Absolut   2.0  2.0  4.0   4.0  89.0         33.353   \n",
       "4  Adams (Peanut Butter)   4.0  3.0  9.0  13.0  71.0         33.292   \n",
       "\n",
       "   sentiment_neg  sentiment_neu  ratings   loyal  disloyal  neutral  \\\n",
       "0         33.249         33.410      3.9  33.315    33.318   33.366   \n",
       "1         33.237         33.418      3.9  33.398    33.238   33.364   \n",
       "2         33.269         33.477      3.9  33.325    33.333   33.342   \n",
       "3         33.370         33.277      3.9  33.438    33.342   33.221   \n",
       "4         33.215         33.493      3.9  33.304    33.446   33.251   \n",
       "\n",
       "  highest_income lowest_income  race_demo  \n",
       "0         74,999        14,999      83.21  \n",
       "1         74,999        14,999      83.21  \n",
       "2         74,999        14,999      83.21  \n",
       "3         74,999        14,999      83.21  \n",
       "4         74,999        14,999      83.21  "
      ]
     },
     "execution_count": 34,
     "metadata": {},
     "output_type": "execute_result"
    }
   ],
   "source": [
    "# Col by col filling the gaps by the mean\n",
    "SPCG_5[1.0] = round(SPCG_5[1.0].fillna(SPCG_5[1.0].mean()),3)\n",
    "SPCG_5[2.0] = round(SPCG_5[2.0].fillna(SPCG_5[2.0].mean()),3)\n",
    "SPCG_5[3.0] = round(SPCG_5[3.0].fillna(SPCG_5[3.0].mean()),3)\n",
    "SPCG_5[4.0] = round(SPCG_5[4.0].fillna(SPCG_5[4.0].mean()),3)\n",
    "SPCG_5[5.0] = round(SPCG_5[5.0].fillna(SPCG_5[5.0].mean()),3)\n",
    "SPCG_5['sentiment_pos'] = round(SPCG_5['sentiment_pos'].fillna(SPCG_5['sentiment_pos'].mean()),3)\n",
    "SPCG_5['sentiment_neg'] = round(SPCG_5['sentiment_neg'].fillna(SPCG_5['sentiment_neg'].mean()),3)\n",
    "SPCG_5['sentiment_neu'] = round(SPCG_5['sentiment_neu'].fillna(SPCG_5['sentiment_neu'].mean()),3)\n",
    "SPCG_5['loyal'] = round(SPCG_5['loyal'].fillna(SPCG_5['loyal'].mean()),3)\n",
    "SPCG_5['disloyal'] = round(SPCG_5['disloyal'].fillna(SPCG_5['disloyal'].mean()),3)\n",
    "SPCG_5['neutral'] = round(SPCG_5['neutral'].fillna(SPCG_5['neutral'].mean()),3)\n",
    "SPCG_5['ratings'] = SPCG_5['ratings'].apply(lambda x: round(SPCG_5['ratings'].mean(),1) if x == 0.0 else x)\n",
    "SPCG_5['highest_income'] = SPCG_5['highest_income'].fillna(SPCG_5['highest_income'].mode())\n",
    "SPCG_5['lowest_income'] = SPCG_5['lowest_income'].fillna(SPCG_5['lowest_income'].mode())\n",
    "SPCG_5['race_demo'] = round(SPCG_5['race_demo'].fillna(SPCG_5['race_demo'].mean()),3)\n",
    "\n",
    "# Viewing\n",
    "SPCG_5[:5]"
   ]
  },
  {
   "cell_type": "code",
   "execution_count": 35,
   "id": "fcaa4b4e",
   "metadata": {
    "code_folding": []
   },
   "outputs": [],
   "source": [
    "# Saving it as csv\n",
    "SPCG_5.to_csv(\"./20221409_Product_Demo_Info.csv\")"
   ]
  },
  {
   "cell_type": "code",
   "execution_count": 36,
   "id": "24ba1486",
   "metadata": {
    "code_folding": [
     0
    ]
   },
   "outputs": [
    {
     "name": "stdout",
     "output_type": "stream",
     "text": [
      "100.0% of data from original.\n"
     ]
    }
   ],
   "source": [
    "# How much non-null rows this table has?\n",
    "print(f'{round(len(SPCG_3)/len(products)*100, 1)}% of data from original.')"
   ]
  },
  {
   "cell_type": "markdown",
   "id": "99d4ed87",
   "metadata": {},
   "source": [
    "# Table 3. Stores\n",
    "\n",
    "\n",
    "## Sales Per Location\n",
    "> Sales Per Location - Number of sales listed in online resources per zip code (optional)\n",
    "\n",
    "## Competitors\n",
    "> Competitors - derived based on category or product type\n",
    "\n",
    "## Price Comparison vs Competitors\n",
    "> Price Comparison vs Competitors - Price comparison based on competing products\n",
    "\n",
    "## Price\n",
    "> Price - percentage price comparison (optional)\n",
    "\n",
    "## Cost per Store\n",
    "> Cost per store - Total cost per store by category\n",
    "\n",
    "## Normal Price\n",
    "> Normal Price - Normal price in the store (inventory price)\n",
    "\n",
    "## Sale Price\n",
    "> Sale Price - Sale Price of the store"
   ]
  },
  {
   "cell_type": "markdown",
   "id": "4587944e",
   "metadata": {},
   "source": [
    "## Sales per Location"
   ]
  },
  {
   "cell_type": "code",
   "execution_count": 37,
   "id": "9ee353d7",
   "metadata": {
    "code_folding": []
   },
   "outputs": [],
   "source": [
    "# Setting a dict for stores data\n",
    "storing = {'name':[], 'address':[], 'summary':[]}\n",
    "for key, value in stores['store_info2'].items():\n",
    "    if len(value)>1:\n",
    "        storing['name'].append(value.get('name'))\n",
    "        storing['address'].append(value.get('address'))\n",
    "        storing['summary'].append(value.get('summary'))\n",
    "    else:\n",
    "        pass\n",
    "    \n",
    "# Transforming to dts\n",
    "stores_info = pd.DataFrame(storing)\n",
    "\n",
    "# Setting brand names in lowcase for better understanding\n",
    "stores_info['name'] = stores_info['name'].str.lower()"
   ]
  },
  {
   "cell_type": "code",
   "execution_count": 66,
   "id": "a81d2545",
   "metadata": {
    "code_folding": []
   },
   "outputs": [],
   "source": [
    "# stores address and summary\n",
    "str_add = pd.DataFrame.from_records(stores_info['address'])\n",
    "str_sum = pd.DataFrame.from_records(stores_info['summary'])\n",
    "\n",
    "# Lowercasing some columns\n",
    "str_add['street'] = str_add['street'].str.lower()\n",
    "str_add['city'] = str_add['city'].str.lower()\n",
    "str_add['zip_code'] = str_add['zip_code'].str.strip(\",\").str.strip(\" \")\n",
    "\n",
    "# Filling empty rows\n",
    "str_add['zip_code'] = pd.to_numeric(str_add['zip_code']).fillna(0.0).astype(int)\n",
    "str_sum['priced_sales'] = str_sum['priced_sales'].fillna(0.0)\n",
    "\n",
    "# All together!\n",
    "store_sales = pd.concat([str_add,str_sum], axis=1)\n",
    "store_sales.insert(0,'name_product',products['brand'])\n",
    "store_sales.insert(0,'name_store', stores_info['name'])\n",
    "store_sales.insert(0,'sales_count',PS_work['sales_count'])\n",
    "\n",
    "#Correcting the col 'unpriced products'\n",
    "store_sales['unpriced_sales'] = store_sales['sales'] - store_sales['priced_sales']"
   ]
  },
  {
   "cell_type": "code",
   "execution_count": 67,
   "id": "eb2e0845",
   "metadata": {
    "code_folding": []
   },
   "outputs": [
    {
     "data": {
      "text/html": [
       "<div>\n",
       "<style scoped>\n",
       "    .dataframe tbody tr th:only-of-type {\n",
       "        vertical-align: middle;\n",
       "    }\n",
       "\n",
       "    .dataframe tbody tr th {\n",
       "        vertical-align: top;\n",
       "    }\n",
       "\n",
       "    .dataframe thead th {\n",
       "        text-align: right;\n",
       "    }\n",
       "</style>\n",
       "<table border=\"1\" class=\"dataframe\">\n",
       "  <thead>\n",
       "    <tr style=\"text-align: right;\">\n",
       "      <th></th>\n",
       "      <th>name_product</th>\n",
       "      <th>name_store</th>\n",
       "      <th>zip_code</th>\n",
       "      <th>sales</th>\n",
       "    </tr>\n",
       "  </thead>\n",
       "  <tbody>\n",
       "    <tr>\n",
       "      <th>2018</th>\n",
       "      <td>model car</td>\n",
       "      <td>aldi development partners</td>\n",
       "      <td>0</td>\n",
       "      <td>0.0</td>\n",
       "    </tr>\n",
       "    <tr>\n",
       "      <th>142</th>\n",
       "      <td>Pace (Dips &amp; Sauces)</td>\n",
       "      <td>aldi inc</td>\n",
       "      <td>35206</td>\n",
       "      <td>0.0</td>\n",
       "    </tr>\n",
       "  </tbody>\n",
       "</table>\n",
       "</div>"
      ],
      "text/plain": [
       "              name_product                 name_store  zip_code  sales\n",
       "2018             model car  aldi development partners         0    0.0\n",
       "142   Pace (Dips & Sauces)                   aldi inc     35206    0.0"
      ]
     },
     "execution_count": 67,
     "metadata": {},
     "output_type": "execute_result"
    }
   ],
   "source": [
    "# Sales per zip-code - just view ;)\n",
    "zip_code_sales = store_sales.loc[:,['name_product','name_store','zip_code','sales']].copy()\n",
    "zip_code_sales = zip_code_sales.sort_values(by='name_store', ascending=True)\n",
    "zip_code_sales[:2]"
   ]
  },
  {
   "cell_type": "code",
   "execution_count": 68,
   "id": "9bc78e73",
   "metadata": {
    "code_folding": []
   },
   "outputs": [
    {
     "data": {
      "text/html": [
       "<div>\n",
       "<style scoped>\n",
       "    .dataframe tbody tr th:only-of-type {\n",
       "        vertical-align: middle;\n",
       "    }\n",
       "\n",
       "    .dataframe tbody tr th {\n",
       "        vertical-align: top;\n",
       "    }\n",
       "\n",
       "    .dataframe thead th {\n",
       "        text-align: right;\n",
       "    }\n",
       "</style>\n",
       "<table border=\"1\" class=\"dataframe\">\n",
       "  <thead>\n",
       "    <tr style=\"text-align: right;\">\n",
       "      <th></th>\n",
       "      <th>sales_count</th>\n",
       "      <th>name_store</th>\n",
       "      <th>name_product</th>\n",
       "      <th>street</th>\n",
       "      <th>city</th>\n",
       "      <th>state</th>\n",
       "      <th>country</th>\n",
       "      <th>latitude</th>\n",
       "      <th>longitude</th>\n",
       "      <th>zip_code</th>\n",
       "      <th>products</th>\n",
       "      <th>sales</th>\n",
       "      <th>unpriced_sales</th>\n",
       "      <th>priced_sales</th>\n",
       "    </tr>\n",
       "  </thead>\n",
       "  <tbody>\n",
       "    <tr>\n",
       "      <th>0</th>\n",
       "      <td>111.0</td>\n",
       "      <td>walgreens</td>\n",
       "      <td>Clairol</td>\n",
       "      <td>1721 e parks hwy</td>\n",
       "      <td>wasilla</td>\n",
       "      <td>AK</td>\n",
       "      <td>USA</td>\n",
       "      <td>61.577462</td>\n",
       "      <td>-149.407119</td>\n",
       "      <td>99694</td>\n",
       "      <td>141.0</td>\n",
       "      <td>141.0</td>\n",
       "      <td>0.0</td>\n",
       "      <td>141.0</td>\n",
       "    </tr>\n",
       "    <tr>\n",
       "      <th>1</th>\n",
       "      <td>NaN</td>\n",
       "      <td>walmart supercenter</td>\n",
       "      <td>Persil</td>\n",
       "      <td>9248 parkway east</td>\n",
       "      <td>juneau</td>\n",
       "      <td>AK</td>\n",
       "      <td>USA</td>\n",
       "      <td>58.3592</td>\n",
       "      <td>-134.51496</td>\n",
       "      <td>99824</td>\n",
       "      <td>15879.0</td>\n",
       "      <td>10985.0</td>\n",
       "      <td>10321.0</td>\n",
       "      <td>664.0</td>\n",
       "    </tr>\n",
       "  </tbody>\n",
       "</table>\n",
       "</div>"
      ],
      "text/plain": [
       "   sales_count           name_store name_product             street     city  \\\n",
       "0        111.0            walgreens      Clairol   1721 e parks hwy  wasilla   \n",
       "1          NaN  walmart supercenter       Persil  9248 parkway east   juneau   \n",
       "\n",
       "  state country   latitude    longitude  zip_code  products    sales  \\\n",
       "0    AK     USA  61.577462  -149.407119     99694     141.0    141.0   \n",
       "1    AK     USA    58.3592   -134.51496     99824   15879.0  10985.0   \n",
       "\n",
       "   unpriced_sales  priced_sales  \n",
       "0             0.0         141.0  \n",
       "1         10321.0         664.0  "
      ]
     },
     "execution_count": 68,
     "metadata": {},
     "output_type": "execute_result"
    }
   ],
   "source": [
    "# View table saved\n",
    "store_sales[:2]"
   ]
  },
  {
   "cell_type": "code",
   "execution_count": 69,
   "id": "b8f4ffb8",
   "metadata": {
    "code_folding": []
   },
   "outputs": [],
   "source": [
    "# Save as csv\n",
    "store_sales.to_csv(\"./20220914_Store_Sales_Location.csv\")"
   ]
  },
  {
   "cell_type": "markdown",
   "id": "f215f7a4",
   "metadata": {},
   "source": [
    "## Competitors"
   ]
  },
  {
   "cell_type": "code",
   "execution_count": 63,
   "id": "63624a8b",
   "metadata": {
    "code_folding": [
     2
    ]
   },
   "outputs": [],
   "source": [
    "# Expanding the product_info col\n",
    "# Setting a dict for products data\n",
    "products_stores = pd.DataFrame.from_records(stores['product_info'], \n",
    "                                            columns=['_id','name','description',\n",
    "                                                     'picture','popular_products',\n",
    "                                                     'categories','flag_hla',\n",
    "                                                     'hla','standard_categories',\n",
    "                                                     'categories_textform','sales_count',\n",
    "                                                     'confidence'])\n",
    "\n",
    "# Gettin' the columns to most important \n",
    "PS = products_stores.loc[:,['name','categories_textform','sales_count']].copy()\n",
    "\n",
    "# Cleaning name col - changing the type\n",
    "germen = PS['name'].apply(lambda x: x.split(\", \")).apply(pd.Series)\n",
    "PS['short_name'] = [TextBlob(x).noun_phrases[0] for x in germen[0]]\n",
    "PS.insert(3,'price', stores['price'])\n",
    "PS['short_name'] = PS.short_name.str.title()\n",
    "\n",
    "# Gonna work just with category, short_name and price\n",
    "PS_work = PS.loc[:,['categories_textform','short_name','price','sales_count']].copy()\n",
    "\n",
    "jt = PS['categories_textform'].apply(lambda x: str(x).split(\", \")).apply(pd.Series)\n",
    "PS_work['categories_textform'] = jt[0].str.strip(\"['']\")"
   ]
  },
  {
   "cell_type": "code",
   "execution_count": 65,
   "id": "be2a99d3",
   "metadata": {},
   "outputs": [],
   "source": [
    "# Save as csv\n",
    "PS_work.to_csv(\"./20220914_PSWORK.csv\")"
   ]
  },
  {
   "cell_type": "code",
   "execution_count": 44,
   "id": "4b92b453",
   "metadata": {
    "code_folding": []
   },
   "outputs": [
    {
     "data": {
      "text/html": [
       "<div>\n",
       "<style scoped>\n",
       "    .dataframe tbody tr th:only-of-type {\n",
       "        vertical-align: middle;\n",
       "    }\n",
       "\n",
       "    .dataframe tbody tr th {\n",
       "        vertical-align: top;\n",
       "    }\n",
       "\n",
       "    .dataframe thead th {\n",
       "        text-align: right;\n",
       "    }\n",
       "</style>\n",
       "<table border=\"1\" class=\"dataframe\">\n",
       "  <thead>\n",
       "    <tr style=\"text-align: right;\">\n",
       "      <th></th>\n",
       "      <th>categories_textform</th>\n",
       "      <th>short_name</th>\n",
       "    </tr>\n",
       "  </thead>\n",
       "  <tbody>\n",
       "    <tr>\n",
       "      <th>15</th>\n",
       "      <td>COMPUTER &amp; TECH ACCESSORIES</td>\n",
       "      <td>[Sandisk Ultra Dual]</td>\n",
       "    </tr>\n",
       "    <tr>\n",
       "      <th>16</th>\n",
       "      <td>CONDIMENTS</td>\n",
       "      <td>[Classic Balsamic Glaze, Original Habanero Eat...</td>\n",
       "    </tr>\n",
       "    <tr>\n",
       "      <th>17</th>\n",
       "      <td>COOKIES</td>\n",
       "      <td>[Pringles Potato Crisps Chips, Olay Ultimate E...</td>\n",
       "    </tr>\n",
       "    <tr>\n",
       "      <th>18</th>\n",
       "      <td>DAIRY</td>\n",
       "      <td>[Cheez-It Cheese Crackers, Olay, Pringles Pota...</td>\n",
       "    </tr>\n",
       "    <tr>\n",
       "      <th>19</th>\n",
       "      <td>DAIRY &amp; EGGS</td>\n",
       "      <td>[Fit Strawberry Banana Nonfat Yogurt, Planet, ...</td>\n",
       "    </tr>\n",
       "  </tbody>\n",
       "</table>\n",
       "</div>"
      ],
      "text/plain": [
       "            categories_textform  \\\n",
       "15  COMPUTER & TECH ACCESSORIES   \n",
       "16                   CONDIMENTS   \n",
       "17                      COOKIES   \n",
       "18                        DAIRY   \n",
       "19                 DAIRY & EGGS   \n",
       "\n",
       "                                           short_name  \n",
       "15                               [Sandisk Ultra Dual]  \n",
       "16  [Classic Balsamic Glaze, Original Habanero Eat...  \n",
       "17  [Pringles Potato Crisps Chips, Olay Ultimate E...  \n",
       "18  [Cheez-It Cheese Crackers, Olay, Pringles Pota...  \n",
       "19  [Fit Strawberry Banana Nonfat Yogurt, Planet, ...  "
      ]
     },
     "execution_count": 44,
     "metadata": {},
     "output_type": "execute_result"
    }
   ],
   "source": [
    "# Getting Competitors by Category\n",
    "Competitors = PS_work.groupby(['categories_textform'])['short_name'].unique().to_frame().reset_index()\n",
    "Competitors[15:20]"
   ]
  },
  {
   "cell_type": "code",
   "execution_count": 45,
   "id": "8e549600",
   "metadata": {
    "code_folding": []
   },
   "outputs": [],
   "source": [
    "# Save as csv\n",
    "Competitors.to_csv(\"./20220914_Products_Store_Competition.csv\")"
   ]
  },
  {
   "cell_type": "markdown",
   "id": "3edb6263",
   "metadata": {},
   "source": [
    "## Price Comparison vs Competitors"
   ]
  },
  {
   "cell_type": "code",
   "execution_count": 46,
   "id": "7d763b61",
   "metadata": {
    "code_folding": []
   },
   "outputs": [
    {
     "data": {
      "text/html": [
       "<div>\n",
       "<style scoped>\n",
       "    .dataframe tbody tr th:only-of-type {\n",
       "        vertical-align: middle;\n",
       "    }\n",
       "\n",
       "    .dataframe tbody tr th {\n",
       "        vertical-align: top;\n",
       "    }\n",
       "\n",
       "    .dataframe thead tr th {\n",
       "        text-align: left;\n",
       "    }\n",
       "</style>\n",
       "<table border=\"1\" class=\"dataframe\">\n",
       "  <thead>\n",
       "    <tr>\n",
       "      <th></th>\n",
       "      <th>categories_textform</th>\n",
       "      <th>short_name</th>\n",
       "      <th colspan=\"2\" halign=\"left\">price</th>\n",
       "    </tr>\n",
       "    <tr>\n",
       "      <th></th>\n",
       "      <th></th>\n",
       "      <th>unique</th>\n",
       "      <th>min</th>\n",
       "      <th>max</th>\n",
       "    </tr>\n",
       "  </thead>\n",
       "  <tbody>\n",
       "    <tr>\n",
       "      <th>15</th>\n",
       "      <td>COMPUTER &amp; TECH ACCESSORIES</td>\n",
       "      <td>[Sandisk Ultra Dual]</td>\n",
       "      <td>29.98</td>\n",
       "      <td>29.98</td>\n",
       "    </tr>\n",
       "    <tr>\n",
       "      <th>16</th>\n",
       "      <td>CONDIMENTS</td>\n",
       "      <td>[Classic Balsamic Glaze, Original Habanero Eat...</td>\n",
       "      <td>5.69</td>\n",
       "      <td>11.49</td>\n",
       "    </tr>\n",
       "    <tr>\n",
       "      <th>17</th>\n",
       "      <td>COOKIES</td>\n",
       "      <td>[Pringles Potato Crisps Chips, Olay Ultimate E...</td>\n",
       "      <td>1.29</td>\n",
       "      <td>275.98</td>\n",
       "    </tr>\n",
       "    <tr>\n",
       "      <th>18</th>\n",
       "      <td>DAIRY</td>\n",
       "      <td>[Cheez-It Cheese Crackers, Olay, Pringles Pota...</td>\n",
       "      <td>1.74</td>\n",
       "      <td>71.98</td>\n",
       "    </tr>\n",
       "    <tr>\n",
       "      <th>19</th>\n",
       "      <td>DAIRY &amp; EGGS</td>\n",
       "      <td>[Fit Strawberry Banana Nonfat Yogurt, Planet, ...</td>\n",
       "      <td>1.50</td>\n",
       "      <td>5.49</td>\n",
       "    </tr>\n",
       "  </tbody>\n",
       "</table>\n",
       "</div>"
      ],
      "text/plain": [
       "            categories_textform  \\\n",
       "                                  \n",
       "15  COMPUTER & TECH ACCESSORIES   \n",
       "16                   CONDIMENTS   \n",
       "17                      COOKIES   \n",
       "18                        DAIRY   \n",
       "19                 DAIRY & EGGS   \n",
       "\n",
       "                                           short_name  price          \n",
       "                                               unique    min     max  \n",
       "15                               [Sandisk Ultra Dual]  29.98   29.98  \n",
       "16  [Classic Balsamic Glaze, Original Habanero Eat...   5.69   11.49  \n",
       "17  [Pringles Potato Crisps Chips, Olay Ultimate E...   1.29  275.98  \n",
       "18  [Cheez-It Cheese Crackers, Olay, Pringles Pota...   1.74   71.98  \n",
       "19  [Fit Strawberry Banana Nonfat Yogurt, Planet, ...   1.50    5.49  "
      ]
     },
     "execution_count": 46,
     "metadata": {},
     "output_type": "execute_result"
    }
   ],
   "source": [
    "# Getting Competitors by Category\n",
    "price_compet = PS_work.groupby(['categories_textform']).agg({'short_name':'unique',\n",
    "                                                            'price': ['min','max']}).reset_index()\n",
    "price_compet[15:20]"
   ]
  },
  {
   "cell_type": "code",
   "execution_count": 47,
   "id": "2d390a36",
   "metadata": {
    "code_folding": []
   },
   "outputs": [],
   "source": [
    "# save as csv\n",
    "price_compet.to_csv(\"./20220914_Store_Price_Comparison.csv\")"
   ]
  },
  {
   "cell_type": "markdown",
   "id": "dec77200",
   "metadata": {},
   "source": [
    "## Price"
   ]
  },
  {
   "cell_type": "code",
   "execution_count": 48,
   "id": "16baf5d6",
   "metadata": {
    "code_folding": [
     0
    ]
   },
   "outputs": [
    {
     "data": {
      "text/html": [
       "<div>\n",
       "<style scoped>\n",
       "    .dataframe tbody tr th:only-of-type {\n",
       "        vertical-align: middle;\n",
       "    }\n",
       "\n",
       "    .dataframe tbody tr th {\n",
       "        vertical-align: top;\n",
       "    }\n",
       "\n",
       "    .dataframe thead th {\n",
       "        text-align: right;\n",
       "    }\n",
       "</style>\n",
       "<table border=\"1\" class=\"dataframe\">\n",
       "  <thead>\n",
       "    <tr style=\"text-align: right;\">\n",
       "      <th></th>\n",
       "      <th>category</th>\n",
       "      <th>unique</th>\n",
       "      <th>min</th>\n",
       "      <th>max</th>\n",
       "      <th>%_diff_price</th>\n",
       "    </tr>\n",
       "  </thead>\n",
       "  <tbody>\n",
       "    <tr>\n",
       "      <th>0</th>\n",
       "      <td></td>\n",
       "      <td>[Cheez-It Cheese Crackers, Eggo Thick, Kellogg...</td>\n",
       "      <td>2.44</td>\n",
       "      <td>33.99</td>\n",
       "      <td>92.8</td>\n",
       "    </tr>\n",
       "    <tr>\n",
       "      <th>1</th>\n",
       "      <td>BABY ITEMS</td>\n",
       "      <td>[Olay, Olay Lotion Moisturizer, Fixodent Dentu...</td>\n",
       "      <td>2.59</td>\n",
       "      <td>40.79</td>\n",
       "      <td>93.7</td>\n",
       "    </tr>\n",
       "  </tbody>\n",
       "</table>\n",
       "</div>"
      ],
      "text/plain": [
       "     category                                             unique   min    max  \\\n",
       "0              [Cheez-It Cheese Crackers, Eggo Thick, Kellogg...  2.44  33.99   \n",
       "1  BABY ITEMS  [Olay, Olay Lotion Moisturizer, Fixodent Dentu...  2.59  40.79   \n",
       "\n",
       "   %_diff_price  \n",
       "0          92.8  \n",
       "1          93.7  "
      ]
     },
     "execution_count": 48,
     "metadata": {},
     "output_type": "execute_result"
    }
   ],
   "source": [
    "# Dropping one level\n",
    "price_compet.columns = price_compet.columns.droplevel(0)\n",
    "price_compet = price_compet.rename(columns={'':'category'})\n",
    "# Getting Competitors by Category\n",
    "price_compet['%_diff_price'] = round((price_compet['max']-price_compet['min'])/price_compet['max']*100,1)\n",
    "\n",
    "# View\n",
    "price_compet[:2]"
   ]
  },
  {
   "cell_type": "code",
   "execution_count": 49,
   "id": "a783ef1c",
   "metadata": {
    "code_folding": []
   },
   "outputs": [],
   "source": [
    "# save as csv\n",
    "price_compet.to_csv(\"./20220914_Store_Price_Difference.csv\")"
   ]
  },
  {
   "cell_type": "markdown",
   "id": "90fd316b",
   "metadata": {
    "heading_collapsed": true
   },
   "source": [
    "## Cost per Store, Normal Price and Sale Price"
   ]
  },
  {
   "cell_type": "code",
   "execution_count": 72,
   "id": "82da5087",
   "metadata": {
    "code_folding": [],
    "hidden": true
   },
   "outputs": [],
   "source": [
    "# Concating price and store sales dataframe\n",
    "store_raw = stores.loc[:,['start_date','end_date',\n",
    "                          'is_actual_price','price','inventory_price']].copy()\n",
    "\n",
    "\n",
    "sale_store = pd.concat([store_sales,store_raw],axis=1)"
   ]
  },
  {
   "cell_type": "code",
   "execution_count": 51,
   "id": "50d1e92b",
   "metadata": {
    "code_folding": [],
    "hidden": true
   },
   "outputs": [
    {
     "data": {
      "text/html": [
       "<div>\n",
       "<style scoped>\n",
       "    .dataframe tbody tr th:only-of-type {\n",
       "        vertical-align: middle;\n",
       "    }\n",
       "\n",
       "    .dataframe tbody tr th {\n",
       "        vertical-align: top;\n",
       "    }\n",
       "\n",
       "    .dataframe thead th {\n",
       "        text-align: right;\n",
       "    }\n",
       "</style>\n",
       "<table border=\"1\" class=\"dataframe\">\n",
       "  <thead>\n",
       "    <tr style=\"text-align: right;\">\n",
       "      <th></th>\n",
       "      <th>name_store</th>\n",
       "      <th>profit_sales</th>\n",
       "    </tr>\n",
       "  </thead>\n",
       "  <tbody>\n",
       "    <tr>\n",
       "      <th>43</th>\n",
       "      <td>cook county whole foods co-op</td>\n",
       "      <td>113589.27</td>\n",
       "    </tr>\n",
       "    <tr>\n",
       "      <th>150</th>\n",
       "      <td>gnld whole food supplemen</td>\n",
       "      <td>72467.46</td>\n",
       "    </tr>\n",
       "    <tr>\n",
       "      <th>155</th>\n",
       "      <td>healthy living with whole food</td>\n",
       "      <td>92848.41</td>\n",
       "    </tr>\n",
       "  </tbody>\n",
       "</table>\n",
       "</div>"
      ],
      "text/plain": [
       "                         name_store  profit_sales\n",
       "43    cook county whole foods co-op     113589.27\n",
       "150       gnld whole food supplemen      72467.46\n",
       "155  healthy living with whole food      92848.41"
      ]
     },
     "execution_count": 51,
     "metadata": {},
     "output_type": "execute_result"
    }
   ],
   "source": [
    "# Creating a new col called - profit_sales\n",
    "sale_store['profit_sales'] = sale_store['priced_sales']*sale_store['price']\n",
    "\n",
    "# Grouping store per sum of price ;)\n",
    "store_profit = sale_store.groupby(['name_store'])['profit_sales'].sum().to_frame().reset_index()\n",
    "store_profit[store_profit['profit_sales']>0][:3]"
   ]
  },
  {
   "cell_type": "code",
   "execution_count": 74,
   "id": "5c26ec9f",
   "metadata": {
    "code_folding": [],
    "hidden": true
   },
   "outputs": [],
   "source": [
    "# Saving sale_store and store_profit\n",
    "sale_store.to_csv(\"./20220914_Store_Sale_Normal_price.csv\")\n",
    "store_profit.to_csv(\"./20220914_Store_Sales_profit_sales.csv\")"
   ]
  },
  {
   "cell_type": "markdown",
   "id": "894f8959",
   "metadata": {},
   "source": [
    "# End of Script ;)"
   ]
  },
  {
   "cell_type": "code",
   "execution_count": 53,
   "id": "17904c00",
   "metadata": {
    "code_folding": []
   },
   "outputs": [],
   "source": [
    "# ANotar a relação entre as tabelas\n",
    "# anotar sobre a média feita na tabela ranking e na tabela preço. onde tirei a differença\n",
    "# e calculei sobre a máxima.\n",
    "# fazer powerbi do demográfico\n",
    "# fechei tudo ;)"
   ]
  },
  {
   "cell_type": "code",
   "execution_count": null,
   "id": "990bc2a9",
   "metadata": {},
   "outputs": [],
   "source": []
  },
  {
   "cell_type": "code",
   "execution_count": null,
   "id": "6376edc9",
   "metadata": {},
   "outputs": [],
   "source": []
  },
  {
   "cell_type": "code",
   "execution_count": null,
   "id": "527f2dea",
   "metadata": {},
   "outputs": [],
   "source": []
  },
  {
   "cell_type": "code",
   "execution_count": 54,
   "id": "fb9f2ba8",
   "metadata": {
    "code_folding": []
   },
   "outputs": [
    {
     "ename": "NameError",
     "evalue": "name 'branding' is not defined",
     "output_type": "error",
     "traceback": [
      "\u001b[0;31m---------------------------------------------------------------------------\u001b[0m",
      "\u001b[0;31mNameError\u001b[0m                                 Traceback (most recent call last)",
      "\u001b[0;32m/tmp/ipykernel_11336/2535051369.py\u001b[0m in \u001b[0;36m<module>\u001b[0;34m\u001b[0m\n\u001b[1;32m      1\u001b[0m \u001b[0;31m# ANOTAR TUDO NO CADERNO!!!\u001b[0m\u001b[0;34m\u001b[0m\u001b[0;34m\u001b[0m\u001b[0m\n\u001b[1;32m      2\u001b[0m \u001b[0;31m# Getting the names which actually match!\u001b[0m\u001b[0;34m\u001b[0m\u001b[0;34m\u001b[0m\u001b[0m\n\u001b[0;32m----> 3\u001b[0;31m \u001b[0mraw_match\u001b[0m \u001b[0;34m=\u001b[0m \u001b[0mPS_work\u001b[0m\u001b[0;34m[\u001b[0m\u001b[0mPS_work\u001b[0m\u001b[0;34m[\u001b[0m\u001b[0;34m'short_name'\u001b[0m\u001b[0;34m]\u001b[0m\u001b[0;34m.\u001b[0m\u001b[0misin\u001b[0m\u001b[0;34m(\u001b[0m\u001b[0mbranding\u001b[0m\u001b[0;34m)\u001b[0m\u001b[0;34m==\u001b[0m\u001b[0;32mTrue\u001b[0m\u001b[0;34m]\u001b[0m\u001b[0;34m.\u001b[0m\u001b[0mgroupby\u001b[0m\u001b[0;34m(\u001b[0m\u001b[0;34m[\u001b[0m\u001b[0;34m'short_name'\u001b[0m\u001b[0;34m]\u001b[0m\u001b[0;34m)\u001b[0m\u001b[0;34m[\u001b[0m\u001b[0;34m'price'\u001b[0m\u001b[0;34m]\u001b[0m\u001b[0;34m.\u001b[0m\u001b[0munique\u001b[0m\u001b[0;34m(\u001b[0m\u001b[0;34m)\u001b[0m\u001b[0;34m\u001b[0m\u001b[0;34m\u001b[0m\u001b[0m\n\u001b[0m\u001b[1;32m      4\u001b[0m \u001b[0mjoin_match\u001b[0m \u001b[0;34m=\u001b[0m \u001b[0mpd\u001b[0m\u001b[0;34m.\u001b[0m\u001b[0mDataFrame\u001b[0m\u001b[0;34m(\u001b[0m\u001b[0mraw_match\u001b[0m\u001b[0;34m)\u001b[0m\u001b[0;34m\u001b[0m\u001b[0;34m\u001b[0m\u001b[0m\n\u001b[1;32m      5\u001b[0m \u001b[0;34m\u001b[0m\u001b[0m\n",
      "\u001b[0;31mNameError\u001b[0m: name 'branding' is not defined"
     ]
    }
   ],
   "source": [
    "# ANOTAR TUDO NO CADERNO!!!\n",
    "# Getting the names which actually match!\n",
    "raw_match = PS_work[PS_work['short_name'].isin(branding)==True].groupby(['short_name'])['price'].unique()\n",
    "join_match = pd.DataFrame(raw_match)\n",
    "\n",
    "# Tranforming into list\n",
    "competitor['zero'] = competitor[0].apply(lambda x: PS_work[PS_work.apply(lambda y: \n",
    "                                        fuzz.token_sort_ratio(y['short_name'],\n",
    "                                         x), axis=1) > 80])[:1].fillna(0)\n",
    "\n",
    "# Working with difflib\n",
    "PS_work[PS_work['short_name'].isin(difflib.get_close_matches('Horizon Organic', PS_work['short_name']))]\n",
    "\n",
    "# Extracting dict from hla col - states\n",
    "prod_str  = pd.DataFrame(products_stores['hla'])\n",
    "\n",
    "row = 0\n",
    "bags = {'state':[]}\n",
    "for x, y in prod_str.items():\n",
    "    while row < len(y):\n",
    "        if y[row] != 0:\n",
    "            delta = list(set(list(pd.DataFrame(y[row])['state'])))\n",
    "            bags['state'].append(delta)\n",
    "        else:\n",
    "            bags['state'].append('none')\n",
    "        row = row + 1\n",
    "        \n",
    "        \n",
    "# Setting dataframe\n",
    "prod_stores_state = pd.DataFrame(prod_str)"
   ]
  },
  {
   "cell_type": "code",
   "execution_count": null,
   "id": "8a4a59f5",
   "metadata": {},
   "outputs": [],
   "source": []
  }
 ],
 "metadata": {
  "kernelspec": {
   "display_name": "Python 3 (ipykernel)",
   "language": "python",
   "name": "python3"
  },
  "language_info": {
   "codemirror_mode": {
    "name": "ipython",
    "version": 3
   },
   "file_extension": ".py",
   "mimetype": "text/x-python",
   "name": "python",
   "nbconvert_exporter": "python",
   "pygments_lexer": "ipython3",
   "version": "3.9.7"
  }
 },
 "nbformat": 4,
 "nbformat_minor": 5
}
